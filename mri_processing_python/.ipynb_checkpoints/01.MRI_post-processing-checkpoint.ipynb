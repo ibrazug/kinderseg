{
 "cells": [
  {
   "cell_type": "markdown",
   "id": "cb61bcf0",
   "metadata": {},
   "source": [
    "# Freesurfer Segmentation and Volume Calculation\n",
    "\n",
    "## Installation\n",
    "Download and install freesurfer-Linux-centos6_x86_64-stable-pub-v6.0.0 from [here](https://surfer.nmr.mgh.harvard.edu/fswiki/rel6downloads).\n",
    "\n",
    "## Usage\n",
    "1. Preprocess MRI data in NIfTI format.\n",
    "2. save them in the directory \"sub\" in accordance with the Brain Image Data Structure (BIDS)\n"
   ]
  },
  {
   "cell_type": "code",
   "execution_count": null,
   "id": "f53a1a19",
   "metadata": {},
   "outputs": [],
   "source": [
    "%%bash\n",
    "#!/bin/bash\n",
    "#\n",
    "export FREESURFER_HOME=$HOME/freesurfer\n",
    "source $FREESURFER_HOME/SetUpFreeSurfer.sh\n",
    "\n",
    "subs_dir=\"$HOME/sub\"\n",
    "export SUBJECTS_DIR=$subs_dir\n",
    "\n",
    "cd $subs_dir\n",
    "subs=($( ls -1d sub-* ))\n",
    "\n",
    "echo ${subs[@]}\n",
    "\n",
    "N=4\n",
    "\n",
    "for s in ${subs[@]}\n",
    "do\n",
    "    ((i=i%N)); ((i++==0)) && wait\n",
    "    if [ ! -d ${s}.reconall ] ; then\n",
    "    \tcd ${s} && \\\n",
    "    \tfiles=($( ls -1 -r *.nii.gz)) && \\\n",
    "    \tcd .. && \\\n",
    "        mri_convert ./${s}/$files ./${s}/orig.mgz && \\\n",
    "        recon-all -subjid $s.reconall -i ${s}/orig.mgz -all -parallel -openmp 4 &\n",
    "    else\n",
    "\techo \"$s.reconall found. Skipping subject\"\n",
    "    fi\n",
    "done\n",
    "\n"
   ]
  }
 ],
 "metadata": {
  "kernelspec": {
   "display_name": "Python [conda env:kinderseg]",
   "language": "python",
   "name": "conda-env-kinderseg-py"
  },
  "language_info": {
   "codemirror_mode": {
    "name": "ipython",
    "version": 3
   },
   "file_extension": ".py",
   "mimetype": "text/x-python",
   "name": "python",
   "nbconvert_exporter": "python",
   "pygments_lexer": "ipython3",
   "version": "3.10.8"
  }
 },
 "nbformat": 4,
 "nbformat_minor": 5
}
