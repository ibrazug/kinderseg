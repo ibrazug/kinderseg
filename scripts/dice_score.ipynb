{
 "cells": [
  {
   "cell_type": "code",
   "execution_count": 1,
   "id": "b0e53b34",
   "metadata": {},
   "outputs": [],
   "source": [
    "import glob\n",
    "import numpy as np\n",
    "import os\n",
    "import matplotlib.pyplot as plt\n",
    "import re\n",
    "import pandas as pd\n",
    "import nibabel as nib"
   ]
  },
  {
   "cell_type": "code",
   "execution_count": null,
   "id": "315b9241",
   "metadata": {},
   "outputs": [],
   "source": [
    "current_dir = !pwd\n",
    "current_dir = current_dir[0]\n",
    "main_dir = \"/\".join(current_dir.split(\"/\")[:-1])\n",
    "main_dir"
   ]
  },
  {
   "cell_type": "code",
   "execution_count": null,
   "id": "3e09bc84",
   "metadata": {},
   "outputs": [],
   "source": [
    "subs = glob.glob(f'{main_dir}/QC_Fastsurfer/sub-*/seg_mask.nii.gz')\n",
    "print (f\"n if sub in Fastsurfer: {len(subs)}\")\n",
    "fs_mask = main_dir + 'FREESURFER_SEG/{}.reconall/seg_mask.nii.gz'\n",
    "fs_mask"
   ]
  },
  {
   "cell_type": "code",
   "execution_count": null,
   "id": "dd4b7c26",
   "metadata": {},
   "outputs": [],
   "source": [
    "fs = [sub.split(\"/\")[-2] for sub in subs]"
   ]
  },
  {
   "cell_type": "code",
   "execution_count": null,
   "id": "304a3440",
   "metadata": {},
   "outputs": [],
   "source": [
    "def dice_score(a1, a2):\n",
    "    a1 = a1.astype(bool)\n",
    "    a2 = a2.astype(bool)\n",
    "    intersection =  (a1 & a2).sum()\n",
    "    return 2*intersection/(a1.sum()+a2.sum())"
   ]
  },
  {
   "cell_type": "code",
   "execution_count": null,
   "id": "c7a64962",
   "metadata": {},
   "outputs": [],
   "source": [
    "our_map={\n",
    " 0: \"ALL\",\n",
    " 1: 'Frontal',\n",
    " 2: 'Hippocampus',\n",
    " 3: 'Frontal_Parietal',\n",
    " 4: 'Parietal',\n",
    " 5: 'Insula',\n",
    " 6: 'Cingulate',\n",
    " 7: 'Occipital',\n",
    " 8: 'BasalGanglia',\n",
    " 9: 'Thalamus',\n",
    " 10: 'Cerebellum',\n",
    " 11: 'CorpusCallosum',\n",
    " 12: 'Ventricles',\n",
    " 13: 'VentralDC',\n",
    " 14: 'WM',\n",
    " 15: 'Brainstem',\n",
    " 16: 'Temporal'}"
   ]
  },
  {
   "cell_type": "code",
   "execution_count": null,
   "id": "ac901ec2",
   "metadata": {
    "scrolled": false
   },
   "outputs": [],
   "source": [
    "d = dict()\n",
    "for n,i in enumerate(subs):\n",
    "    fs_sub = fs_mask.format(fs[n])\n",
    "    try:\n",
    "        d[fs[n]] = dict()\n",
    "        fs_sub = fs_mask.format(fs[n])\n",
    "        a1 = nib.load(i).get_fdata().round()\n",
    "        a2 = nib.load(fs_sub).get_fdata().round()\n",
    "        for j in np.unique(a1):\n",
    "            dsc = dice_score(np.where(a1==j,1,0),np.where(a2==j,1,0))\n",
    "            d[fs[n]][our_map[int(j)]] = dsc\n",
    "    except Exception as e:\n",
    "        # Exception handling\n",
    "        print(\"An exception occurred:\", e)"
   ]
  },
  {
   "cell_type": "code",
   "execution_count": null,
   "id": "b52c5c1f",
   "metadata": {
    "scrolled": true
   },
   "outputs": [],
   "source": [
    "d"
   ]
  },
  {
   "cell_type": "code",
   "execution_count": null,
   "id": "916dbd3f",
   "metadata": {},
   "outputs": [],
   "source": [
    "df = pd.DataFrame.from_dict(d, orient=\"index\")\n",
    "df.to_csv(\"DiceScores.csv\")"
   ]
  },
  {
   "cell_type": "markdown",
   "id": "986cb44f",
   "metadata": {
    "scrolled": true
   },
   "source": [
    "An exception occurred: No such file or no access: '/home/ibrazug/Dokumente/KindersegV2/Ibra/martin/QC_Freesurfer/sub-k14580.reconall/seg_mask.nii.gz'\n",
    "An exception occurred: No such file or no access: '/home/ibrazug/Dokumente/KindersegV2/Ibra/martin/QC_Freesurfer/sub-k40710.reconall/seg_mask.nii.gz'"
   ]
  },
  {
   "cell_type": "code",
   "execution_count": null,
   "id": "9e9f80bc",
   "metadata": {},
   "outputs": [],
   "source": [
    "subs = glob.glob('/home/ibrazug/Dokumente/KindersegV2/Ibra/hbn/QC_Fastsurfer/sub-*/seg_mask.nii.gz')"
   ]
  },
  {
   "cell_type": "code",
   "execution_count": null,
   "id": "1f5ae775",
   "metadata": {},
   "outputs": [],
   "source": [
    "subs = glob.glob('/home/ibrazug/Dokumente/KindersegV2/Ibra/hbn/QC_Freesurfer/sub-*/T1.nii.gz')"
   ]
  },
  {
   "cell_type": "markdown",
   "id": "b8c39c0c",
   "metadata": {},
   "source": [
    "no-seg + seg + "
   ]
  },
  {
   "cell_type": "code",
   "execution_count": null,
   "id": "b86b5bec",
   "metadata": {},
   "outputs": [],
   "source": [
    "roi = \"Thalamus\"\n",
    "x = []\n",
    "y = []\n",
    "for i in fs:\n",
    "    sub = d[i]\n",
    "    score = sub[roi]\n",
    "    \n",
    "        \n",
    "    x.append(i)\n",
    "    y.append(score)\n",
    "                    \n",
    "fig = plt.figure()\n",
    "ax = fig.add_axes([0,0,1,1])\n",
    "\n",
    "ax.bar(x,y)\n",
    "ax.set_ylabel('Scores')\n",
    "\n",
    "ax.set_xlabel('Subjects')\n",
    "ax.set_title(f'Dice Scores for {roi}')\n",
    "plt.ylim([0.7, 1])\n",
    "plt.show()"
   ]
  },
  {
   "cell_type": "code",
   "execution_count": null,
   "id": "c36ee7a5",
   "metadata": {
    "scrolled": true
   },
   "outputs": [],
   "source": [
    "d"
   ]
  },
  {
   "cell_type": "code",
   "execution_count": null,
   "id": "77c91a04",
   "metadata": {
    "scrolled": false
   },
   "outputs": [],
   "source": [
    "for i in range(0, len(our_map)):\n",
    "    roi = our_map[i]\n",
    "    x = []\n",
    "    y = []\n",
    "    for i in fs:\n",
    "        sub = d[i]\n",
    "        score = sub[roi]\n",
    "        x.append(i)\n",
    "        y.append(score)\n",
    "\n",
    "    fig = plt.figure()\n",
    "    ax = fig.add_axes([0.5,0,1,1])\n",
    "\n",
    "    ax.bar(x,y)\n",
    "    ax.set_ylabel('Scores')\n",
    "    ax.set_xlabel('Subjects')\n",
    "    ax.set_title(f'Dice Scores for {roi}')\n",
    "    plt.ylim([0.6, 1])\n",
    "    plt.show()"
   ]
  },
  {
   "cell_type": "code",
   "execution_count": null,
   "id": "25bbd3ae",
   "metadata": {},
   "outputs": [],
   "source": [
    "len(our_map)"
   ]
  },
  {
   "cell_type": "code",
   "execution_count": null,
   "id": "e55ad7a6",
   "metadata": {},
   "outputs": [],
   "source": []
  }
 ],
 "metadata": {
  "kernelspec": {
   "display_name": "Python 3 (ipykernel)",
   "language": "python",
   "name": "python3"
  },
  "language_info": {
   "codemirror_mode": {
    "name": "ipython",
    "version": 3
   },
   "file_extension": ".py",
   "mimetype": "text/x-python",
   "name": "python",
   "nbconvert_exporter": "python",
   "pygments_lexer": "ipython3",
   "version": "3.9.13"
  }
 },
 "nbformat": 4,
 "nbformat_minor": 5
}
