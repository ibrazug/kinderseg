{
 "cells": [
  {
   "cell_type": "code",
   "execution_count": null,
   "id": "59d371da",
   "metadata": {},
   "outputs": [],
   "source": [
    "library(ggplot2)\n",
    "library(dplyr)\n",
    "library(hrbrthemes)\n",
    "library(zoo)\n",
    "library(viridis)\n",
    "library(tidyr)\n",
    "\n",
    "options(repr.plot.width = 18, repr.plot.height = 9)\n"
   ]
  },
  {
   "cell_type": "code",
   "execution_count": null,
   "id": "0c67f16f",
   "metadata": {},
   "outputs": [],
   "source": [
    "\n",
    "# Read data\n",
    "left <- \n",
    "right <- \n",
    "\n",
    "# Drop 'Unnamed: 0' column\n",
    "left <- left[, !(names(left) %in% c(\"Unnamed: 0\"))]\n",
    "right <- right[, !(names(right) %in% c(\"Unnamed: 0\"))]\n",
    "\n",
    "# Merge data frames on 'IDs'\n",
    "df <- merge(right, left, by='ids', suffixes=c('_right', '_left'))\n",
    "\n",
    "# Select columns of interest\n",
    "cols <- c('Frontal', 'Temporal', 'Hippocampus', 'Frontal_Parietal',\n",
    "          'Parietal', 'Insula', 'Cingulate', 'Occipital', 'BasalGanglia',\n",
    "          'Thalamus', 'Cerebellum', 'Ventricles', 'VentralDC', 'WM')\n",
    "\n",
    "# Create an empty data frame for results\n",
    "result_df <- data.frame(IDs = df$ids)\n",
    "\n",
    "# Calculate AI for each specified column\n",
    "for (col in cols) {\n",
    "  R <- df[[paste(col, \"_right\", sep = \"\")]]\n",
    "  L <- df[[paste(col, \"_left\", sep = \"\")]]\n",
    "\n",
    "  result_df[[paste(col, \"_ai\", sep = \"\")]] <- ((R - L) / (R + L)* 100) \n",
    "}\n",
    "\n",
    "\n",
    "\n",
    "# Reshape data for plotting\n",
    "df_melted <- result_df %>%\n",
    "  select(-IDs) %>%\n",
    "  gather(key = \"ROI\", value = \"AI\")\n",
    "\n",
    "# Plot boxplot\n",
    "g_free <- ggplot(df_melted, aes(x = ROI, y = AI)) +\n",
    "  geom_boxplot(fill = \"#0099f8\") +\n",
    "  ggtitle(\"AI across Subjects\") +\n",
    "  theme_minimal() +\n",
    "  geom_hline(yintercept = 0, color = \"black\", size = 2, alpha = 0.3)+\n",
    "\n",
    "  labs(title = 'AI = ((R - L) / (R + L)) * 100',\n",
    "       x = 'ROI', y = 'AI') +\n",
    "  theme_minimal(base_size = 20) +\n",
    "  theme(axis.text.x = element_text(angle = 90, hjust = 1, vjust = 0.5),\n",
    "        #panel.grid.major = element_blank(),\n",
    "        #panel.grid.minor = element_blank(),\n",
    "        panel.background = element_blank(),\n",
    "        axis.line = element_line(color = 'black'))+ylim(-50, 50)\n",
    "\n",
    "print(g_free)\n",
    "\n"
   ]
  },
  {
   "cell_type": "code",
   "execution_count": null,
   "id": "00e5b1ea",
   "metadata": {},
   "outputs": [],
   "source": []
  },
  {
   "cell_type": "code",
   "execution_count": null,
   "id": "058adfc8",
   "metadata": {},
   "outputs": [],
   "source": [
    "result_df %>% \n",
    "write.csv(\"AI_free.csv\", row.names = FALSE)"
   ]
  },
  {
   "cell_type": "code",
   "execution_count": null,
   "id": "2423b37e",
   "metadata": {},
   "outputs": [],
   "source": [
    "cat(\"Al = ((R - L) / (R + L)) * 100\\n\")\n",
    "\n",
    "# Calculate mean, median, and IQR for each ROI\n",
    "mean_df <- apply(result_df[, -1, drop = FALSE], 2, mean)\n",
    "median_df <- apply(result_df[, -1, drop = FALSE], 2, median)\n",
    "q1_df <- apply(result_df[, -1, drop = FALSE], 2, function(x) quantile(x, 0.25))\n",
    "q3_df <- apply(result_df[, -1, drop = FALSE], 2, function(x) quantile(x, 0.75))\n",
    "iqr_df <- q3_df - q1_df\n",
    "\n",
    "summary_df <- data.frame(\n",
    "  ROI = names(median_df),\n",
    "  Mean = round(mean_df, 2),\n",
    "  Median = round(median_df, 2),\n",
    "  Q1 = round(q1_df, 2),\n",
    "  Q3 = round(q3_df, 2),\n",
    "  IQR = round(iqr_df, 2)\n",
    ")\n",
    "\n",
    "# Display the DataFrame\n",
    "summary_df"
   ]
  },
  {
   "cell_type": "code",
   "execution_count": null,
   "id": "d41c3d56",
   "metadata": {},
   "outputs": [],
   "source": []
  }
 ],
 "metadata": {
  "kernelspec": {
   "display_name": "R [conda env:r_ibra]",
   "language": "R",
   "name": "conda-env-r_ibra-r"
  },
  "language_info": {
   "codemirror_mode": "r",
   "file_extension": ".r",
   "mimetype": "text/x-r-source",
   "name": "R",
   "pygments_lexer": "r",
   "version": "4.3.1"
  }
 },
 "nbformat": 4,
 "nbformat_minor": 5
}
