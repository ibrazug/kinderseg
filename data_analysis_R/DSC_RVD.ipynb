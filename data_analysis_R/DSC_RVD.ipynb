{
 "cells": [
  {
   "cell_type": "code",
   "execution_count": null,
   "id": "52b3e9b8",
   "metadata": {
    "scrolled": true
   },
   "outputs": [],
   "source": [
    "library(ggplot2)\n",
    "library(dplyr)\n",
    "library(hrbrthemes)\n",
    "library(zoo)\n",
    "library(viridis)\n",
    "library(tidyr)\n",
    "\n",
    "options(repr.plot.width = 18, repr.plot.height = 18)\n"
   ]
  },
  {
   "cell_type": "code",
   "execution_count": null,
   "id": "89c81f94",
   "metadata": {},
   "outputs": [],
   "source": [
    "curr_dir <- getwd()\n",
    "base_dir <- dirname(curr_dir)\n",
    "\n",
    "\n",
    "base_dir"
   ]
  },
  {
   "cell_type": "code",
   "execution_count": null,
   "id": "988bb98c",
   "metadata": {},
   "outputs": [],
   "source": [
    "# Load the DICE data from a CSV file\n",
    "dice <- read.csv(file.path(base_dir, \"code\", \"DICE.csv\"))\n",
    "\n",
    "# Replace commas with dots in the entire DataFrame\n",
    "dice <- as.data.frame(lapply(dice, function(x) gsub(\",\", \".\", x)))\n",
    "\n",
    "# Convert all columns to numeric except 'subject'\n",
    "numeric_columns <- setdiff(names(dice), 'subject')\n",
    "dice[, numeric_columns] <- lapply(dice[, numeric_columns], as.numeric)\n",
    "\n",
    "# Read the QC data from a CSV file\n",
    "qc <- read.csv(file.path(base_dir, \"derivatives\", \"QC_SC_RESULT.csv\"))\n",
    "\n",
    "# Filter rows in qc where qc_inclusion is \"yes\"\n",
    "qc <- qc[qc$qc_inclusion == \"yes\", ]\n",
    "\n",
    "# Filter rows in dice where the subject is in qc with qc_inclusion \"yes\"\n",
    "dice <- dice[dice$subject %in% qc$subject, ]\n",
    "\n",
    "# Select specific columns from the DICE DataFrame\n",
    "selected_columns <- c('ALL', 'Frontal', 'Hippocampus', 'Frontal_Parietal',\n",
    "                      'Parietal', 'Insula', 'Cingulate', 'Occipital', 'BasalGanglia',\n",
    "                      'Thalamus', 'Cerebellum', 'CorpusCallosum', 'Ventricles', 'VentralDC',\n",
    "                      'WM', 'Brainstem', 'Temporal')\n",
    "df <- dice[selected_columns]\n",
    "                             \n",
    "colnames(df)[colnames(df) == \"Frontal_Parietal\"] <- \"Paracentral Lobe\"\n",
    "\n",
    "\n",
    "# Reshape the DataFrame using melt function\n",
    "df_melted <- reshape2::melt(df)\n",
    "\n",
    "# Rename columns in the melted DataFrame\n",
    "colnames(df_melted) <- c('ROI', 'DSC')\n",
    "\n",
    "\n",
    "# Set a random color palette\n",
    "set.seed(42)  # Set a seed for reproducibility\n",
    "random_colors <- sample(colors(), length(unique(df_melted$ROI)))\n",
    "\n",
    "# Create a boxplot with random colors\n",
    "g1 <- ggplot(df_melted, aes(x = ROI, y = DSC, fill = ROI)) +\n",
    "                             \n",
    "  #geom_boxplot(color = \"black\", show.legend = FALSE) +\n",
    "geom_boxplot(linewidth=1.2, size=8, show.legend = FALSE)+\n",
    "  labs(title = '',\n",
    "       x = 'ROI', y = '') +\n",
    "  theme_minimal(base_size = 40) +\n",
    "  theme(axis.text.x = element_text(angle = 45, hjust = 1),\n",
    "        #panel.grid.major = element_blank(),\n",
    "        #panel.grid.minor = element_blank(),\n",
    "        panel.background = element_blank(),\n",
    "        axis.line = element_line(color = 'black'))+ylim(0.125, 1)+ labs(x = NULL)+\n",
    "        \n",
    "        labs(x = NULL)+\n",
    "        geom_hline(yintercept = 0.8, linetype = \"solid\", color = \"black\", size = 1, alpha = 0.5)+\n",
    "\n",
    "        annotate(\"text\", x = 1.1, y = 0.8, label = \"0.8\", hjust = 1, vjust = -0.5, color = \"black\", size = 9)\n",
    "\n",
    "\n",
    "# Display the colorful boxplot\n",
    "print(g1)\n",
    "\n",
    "                             "
   ]
  },
  {
   "cell_type": "code",
   "execution_count": null,
   "id": "e8a59bbc",
   "metadata": {
    "scrolled": true
   },
   "outputs": [],
   "source": [
    "#result_df_long"
   ]
  },
  {
   "cell_type": "code",
   "execution_count": null,
   "id": "639a17e5",
   "metadata": {
    "scrolled": false
   },
   "outputs": [],
   "source": [
    "# Read QC, fastsurfer_vol, and freesurfer_vol data\n",
    "qc <- read.csv(\"/home/ibrazug/Dokumente/KindersegV2/Ibra/derivatives/QC_SC_RESULT.csv\")\n",
    "fastsurfer_vol <- read.csv(paste0(base_dir, \"/derivatives/FASTSURFER_SEG/fastsurfer_vol.csv\"))\n",
    "freesurfer_vol <- read.csv(paste0(base_dir, \"/derivatives/FREESURFER_SEG/freesurfer_vol.csv\"))\n",
    "\n",
    "# Merge dataframes\n",
    "merged_df <- merge(fastsurfer_vol, freesurfer_vol, by = 'IDs', suffixes = c('_fastsurfer', '_freesurfer'))\n",
    "\n",
    "# Select relevant columns\n",
    "relevant_cols <- colnames(fastsurfer_vol)[3:19]\n",
    "\n",
    "# Initialize result dataframe\n",
    "result_df <- data.frame(IDs = merged_df$IDs)\n",
    "\n",
    "# Calculate percentage difference and store in result_df\n",
    "for (col in relevant_cols) {\n",
    "  result_df[paste0(col, \"_diff\")] <- ((merged_df[paste0(col, \"_fastsurfer\")] - merged_df[paste0(col, \"_freesurfer\")]) / merged_df[paste0(col, \"_freesurfer\")])\n",
    "}\n",
    "\n",
    "# Filter result_df based on QC inclusion\n",
    "yes <- qc$subject[qc$qc_inclusion == \"yes\"]\n",
    "result_df <- result_df[result_df$IDs %in% yes, ]\n",
    "\n",
    "# Create a boxplot using ggplot2\n",
    "result_df_long <- pivot_longer(result_df, cols = contains(\"_diff\"),\n",
    "                names_to = \"Measure\", values_to = \"Percentage_Diff\")\n",
    "\n",
    "\n",
    "# Remove _diff from y-axis labels\n",
    "result_df_long$Measure <- gsub(\"_diff\", \"\", result_df_long$Measure)\n",
    "result_df_long$Measure <- gsub(\"Frontal_Parietal\", \"Paracentral Lobe\", result_df_long$Measure)\n",
    "result_df_long$Measure <- gsub(\"CorpusCallosum\", \"Corpus Callosum\", result_df_long$Measure)\n",
    "result_df_long$Measure <- gsub(\"BasalGanglia\", \"Basal Ganglia\", result_df_long$Measure)\n",
    "result_df_long$Measure <- gsub(\"VentralDC\", \"Ventral DC\", result_df_long$Measure)\n",
    "#VentralDC\n",
    "#Ventral DC\n",
    "# Define the desired order of levels for Measure\n",
    "desired_order <- c(\"eTIV\", \"Frontal\", \"Hippocampus\", \"Paracentral Lobe\", \"Parietal\", \"Insula\", \"Cingulate\", \"Occipital\", \"Basal Ganglia\", \"Thalamus\", \"Cerebellum\", \"Corpus Callosum\", \"Ventricles\", \"Ventral DC\",\"WM\", \"Brainstem\", \"Temporal\")\n",
    "\n",
    "# Reorder the levels of Measure\n",
    "result_df_long$Measure <- factor(result_df_long$Measure, levels = desired_order)\n",
    "\n",
    "\n",
    "g2 <- ggplot(result_df_long, aes(x = Measure, y = Percentage_Diff, fill = Measure)) +\n",
    "  labs(title = '', x = NULL, y = NULL) + \n",
    "  #geom_violin(width=1.5, trim=T)+\n",
    "  #geom_boxplot(width=0.3)+\n",
    "  geom_boxplot(linewidth=1.2, size=8)+\n",
    "  labs(title = '', y = '') + \n",
    "  theme_minimal(base_size = 40) +\n",
    "  theme(axis.text.x = element_text(angle = 45, hjust = 1),\n",
    "        #panel.grid.major = element_blank(),\n",
    "        #panel.grid.minor = element_blank(),\n",
    "        panel.background = element_blank(),\n",
    "        axis.line = element_line(color = 'black'), legend.position = \"none\")+\n",
    "        ylim(-0.78, 0.78)+ \n",
    "        labs(x = NULL)+\n",
    "        geom_hline(yintercept = 0, linetype = \"solid\", color = \"black\", size = 1, alpha = 0.5)\n",
    "\n",
    "\n",
    "g2"
   ]
  },
  {
   "cell_type": "code",
   "execution_count": null,
   "id": "d454fe08",
   "metadata": {},
   "outputs": [],
   "source": []
  },
  {
   "cell_type": "code",
   "execution_count": null,
   "id": "d4360a08",
   "metadata": {},
   "outputs": [],
   "source": []
  },
  {
   "cell_type": "code",
   "execution_count": null,
   "id": "ba58ef8b",
   "metadata": {},
   "outputs": [],
   "source": []
  },
  {
   "cell_type": "code",
   "execution_count": null,
   "id": "be80b071",
   "metadata": {},
   "outputs": [],
   "source": []
  },
  {
   "cell_type": "code",
   "execution_count": null,
   "id": "051e5ff1",
   "metadata": {},
   "outputs": [],
   "source": []
  },
  {
   "cell_type": "code",
   "execution_count": null,
   "id": "776b010b",
   "metadata": {},
   "outputs": [],
   "source": []
  },
  {
   "cell_type": "code",
   "execution_count": null,
   "id": "d950cca8",
   "metadata": {},
   "outputs": [],
   "source": []
  },
  {
   "cell_type": "code",
   "execution_count": null,
   "id": "97335772",
   "metadata": {
    "scrolled": false
   },
   "outputs": [],
   "source": [
    "#both\n",
    "library(gridExtra)\n",
    "library(cowplot)\n",
    "\n",
    "g1 <- g1 + labs(title = \"Dice Similarity Coefficient\")+ theme(plot.title = element_text(size = 40),) \n",
    "g2 <- g2 + labs(title = \"Relative Volume Difference\")  + theme(plot.title = element_text(size = 40),) \n",
    "#grid.arrange(g1, g2, ncol = 1)\n",
    "x <- plot_grid(g1, g2, labels=c('A', 'B'), nrow=2, ncol = 1, label_size = 45,label_fontfamily = \"ArialNarrow\")\n",
    "x"
   ]
  },
  {
   "cell_type": "code",
   "execution_count": null,
   "id": "dab5297f",
   "metadata": {},
   "outputs": [],
   "source": []
  },
  {
   "cell_type": "code",
   "execution_count": null,
   "id": "0888cc5c",
   "metadata": {},
   "outputs": [],
   "source": []
  },
  {
   "cell_type": "code",
   "execution_count": null,
   "id": "fd773b98",
   "metadata": {},
   "outputs": [],
   "source": []
  },
  {
   "cell_type": "code",
   "execution_count": null,
   "id": "4e8ca10a",
   "metadata": {
    "scrolled": true
   },
   "outputs": [],
   "source": []
  },
  {
   "cell_type": "code",
   "execution_count": null,
   "id": "ea4cc20a",
   "metadata": {},
   "outputs": [],
   "source": []
  },
  {
   "cell_type": "code",
   "execution_count": null,
   "id": "477b32f2",
   "metadata": {},
   "outputs": [],
   "source": []
  },
  {
   "cell_type": "code",
   "execution_count": null,
   "id": "54f549d4",
   "metadata": {},
   "outputs": [],
   "source": []
  },
  {
   "cell_type": "code",
   "execution_count": null,
   "id": "ec43220c",
   "metadata": {},
   "outputs": [],
   "source": []
  },
  {
   "cell_type": "code",
   "execution_count": null,
   "id": "c84d6855",
   "metadata": {},
   "outputs": [],
   "source": []
  },
  {
   "cell_type": "code",
   "execution_count": null,
   "id": "43f8a9f5",
   "metadata": {},
   "outputs": [],
   "source": []
  }
 ],
 "metadata": {
  "kernelspec": {
   "display_name": "R [conda env:r_ibra]",
   "language": "R",
   "name": "conda-env-r_ibra-r"
  },
  "language_info": {
   "codemirror_mode": "r",
   "file_extension": ".r",
   "mimetype": "text/x-r-source",
   "name": "R",
   "pygments_lexer": "r",
   "version": "4.3.1"
  }
 },
 "nbformat": 4,
 "nbformat_minor": 5
}
