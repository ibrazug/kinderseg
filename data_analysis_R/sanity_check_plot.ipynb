{
 "cells": [
  {
   "cell_type": "markdown",
   "id": "e32455d3",
   "metadata": {},
   "source": [
    "# BrainChart Data Formatting Guidelines\n",
    "\n",
    "\n",
    "### Column Guidelines:\n",
    "\n",
    "- **Participant:** Unique participant identifier used in your study\n",
    "- **Age:** Participants' age in years\n",
    "- **age_days:** Participants' age in post-conception days, estimated as: `(years * 365.245) + 280`\n",
    "- **Sex:** Binary factor identifying \"Male\" or \"Female\"\n",
    "- **Study:** Name of your study (avoid using the same study name/acronym as in the app or paper)\n",
    "- **fs_version:** FreeSurfer version used to obtain gross volumetric measures (use \"NA\" if not included in the template)\n",
    "- **Country:** Optional country argument (leave as \"NA\" if not known)\n",
    "- **Run:** Numeric encoding for scenarios with multiple measures within the same session (e.g., 1, 2, … n)\n",
    "- **Session:** Numeric encoding for possibly multiple scanning sessions at different time-points (e.g., 1, 2, … n)\n",
    "- **DX:** Diagnosis; use \"CN\" for controls (no specific classification system is used for clinical cohorts)\n",
    "- **GMV:** Cortical grey matter volume (analogous to FreeSurfer's \"Total cortical gray matter volume\" label)\n",
    "- **WMV:** Cerebral white matter volume (analogous to FreeSurfer's \"Total cerebral white matter volume\" label)\n",
    "- **sGMV:** Subcortical grey matter volume (analogous to FreeSurfer's \"Subcortical gray matter volume\" label)\n",
    "- **Ventricles:** Ventricular volume (analogous to FreeSurfer's \"Volume of ventricles and choroid plexus\" label)\n",
    "\n",
    "### Additional Fields:\n",
    "You can include any additional fields relevant to your study.\n",
    "\n",
    "Parameter estimates and centile scores will be appended to the original upload. For clarity, centile scores are computed only for the selected brain feature. Repeat the process for each requested feature.\n",
    "\n",
    "\n",
    "source : https://brainchart.shinyapps.io/brainchart/"
   ]
  },
  {
   "cell_type": "code",
   "execution_count": null,
   "id": "0608a245",
   "metadata": {
    "scrolled": true
   },
   "outputs": [],
   "source": [
    "library(ggplot2)\n",
    "library(dplyr)\n",
    "library(hrbrthemes)\n",
    "library(zoo)\n",
    "library(patchwork)\n",
    "options(repr.plot.width = 18, repr.plot.height = 9)\n"
   ]
  },
  {
   "cell_type": "code",
   "execution_count": null,
   "id": "1c807c5c",
   "metadata": {
    "scrolled": false
   },
   "outputs": [],
   "source": [
    "source(\"100.common-variables.r\")\n",
    "source(\"101.common-functions.r\")\n",
    "\n",
    "source(\"300.variables.r\")\n",
    "source(\"301.functions.r\")\n",
    "\n",
    "#import the model \n",
    "#files are in https://github.com/brainchart/Lifespan\n",
    "\n",
    "FIT_GMV <- readRDS(\"Share/FIT_GMV.rds\")\n",
    "FIT_WMV <- readRDS(\"Share/FIT_WMV.rds\")\n",
    "FIT_sGMV <- readRDS(\"Share/FIT_sGMV.rds\")\n",
    "FIT_Ventricles <- readRDS(\"Share/FIT_Ventricles.rds\")\n",
    "\n",
    "POP.CURVE.LIST <- list(AgeTransformed=seq(log(90),log(365*95),length.out=2^6),sex=c(\"Female\",\"Male\"))\n",
    "POP.CURVE.RAW <- do.call( what=expand.grid, args=POP.CURVE.LIST )\n",
    "\n",
    "CURVE_GMV <- Apply.Param(NEWData=POP.CURVE.RAW, FITParam=FIT_GMV$param )\n",
    "CURVE_WMV <- Apply.Param(NEWData=POP.CURVE.RAW, FITParam=FIT_WMV$param )\n",
    "CURVE_sGMV <- Apply.Param(NEWData=POP.CURVE.RAW, FITParam=FIT_sGMV$param )\n",
    "CURVE_Ventricles <- Apply.Param(NEWData=POP.CURVE.RAW, FITParam=FIT_Ventricles$param )\n",
    "\n",
    "\n",
    "\n",
    "\n",
    "\n",
    "#impoert subjects and filter them\n",
    "qc <- read.csv(\"/QC_SC_RESULT.csv\")\n",
    "#formatted bethlehem input according to the first cell in the document\n",
    "kinder <- read.csv(\"data/bethlehen_input.csv\")\n",
    "qc_filtered <- qc[qc$inclusion == \"yes\", ]\n",
    "kinder <- kinder[kinder$participant %in% qc_filtered$subject, ]\n",
    "\n",
    "#reformate kinder \n",
    "kinder$AgeTransformed <- log(kinder$age_days)\n",
    "kinder$GMVTransformed <- kinder$GMV/10000\n",
    "kinder$WMVTransformed <- kinder$WMV/10000\n",
    "kinder$sGMVTransformed <- kinder$sGMV/10000\n",
    "kinder$VentriclesTransformed <- kinder$Ventricles/10000\n",
    "kinder<-kinder[, c(\"AgeTransformed\", \"GMVTransformed\",\"WMVTransformed\", \"sGMVTransformed\",\"VentriclesTransformed\",\"sex\")]\n",
    "\n"
   ]
  },
  {
   "cell_type": "code",
   "execution_count": null,
   "id": "ce74437a",
   "metadata": {
    "scrolled": false
   },
   "outputs": [],
   "source": [
    "head(kinder)\n",
    "toOriginal <- function(Z) {\n",
    "  exp(Z)/365\n",
    "}\n"
   ]
  },
  {
   "cell_type": "code",
   "execution_count": null,
   "id": "d277e857",
   "metadata": {
    "scrolled": false
   },
   "outputs": [],
   "source": [
    "# Set common parameters\n",
    "x <- 22\n",
    "common_point_size <- 3\n",
    "common_opacity <- 0.25\n",
    "\n",
    "# Function to create a volume plot\n",
    "create_volume_plot <- function(data, y_var, y_limit, title) {\n",
    "  ggplot(data, aes(x = toOriginal(AgeTransformed), y = PRED.m500.pop*10, color = sex)) +\n",
    "    geom_line(aes(y = PRED.u750.pop*10)) +\n",
    "    geom_line(aes(y = PRED.l250.pop*10)) +\n",
    "    geom_line() +\n",
    "    geom_line(aes(y = PRED.u975.pop*10), linetype = \"dashed\", alpha = common_opacity) +\n",
    "    geom_line(aes(y = PRED.l025.pop*10), linetype = \"dashed\", alpha = common_opacity) +\n",
    "\n",
    "    \n",
    "    geom_point(data = kinder, aes(x = toOriginal(AgeTransformed), y = !!sym(y_var)), pch = 16, alpha = common_opacity, size = common_point_size) +\n",
    "    #ylim(0, y_limit*2) +\n",
    "    xlim(0, 20) +\n",
    "    facet_wrap(~sex, scales='free_y') +\n",
    "    ggtitle(title) +\n",
    "    labs(x = \"Age(years)\", title = glue(\"{sub('Transformed', '', y_var)}\"), y='Volume (cm³)')+\n",
    "    theme_ipsum()+\n",
    "scale_color_viridis_d(option='turbo')+\n",
    "    theme(axis.title.x=element_text(size=25),\n",
    "     axis.title.y=element_text(size=25),\n",
    "     strip.text = element_text(size = 25),\n",
    "     axis.text.x = element_text(size=25),#, angle=90,hjust=0.95,vjust=0.2),\n",
    "     axis.text.y = element_text(size=25),\n",
    "    legend.title = element_text(size=22),\n",
    "    legend.text = element_text(size=22),\n",
    "    legend.position='none',\n",
    "    plot.title =  element_text(size=25, family='ArialNarrow'),\n",
    "     )\n",
    "}\n",
    "\n",
    "# Plot for GMV Curve\n",
    "plot_gmv <- create_volume_plot(CURVE_GMV, \"Gray Matter\", 80, \"A\")\n",
    "\n",
    "# Plot for WMV Curve\n",
    "plot_wmv <- create_volume_plot(CURVE_WMV, \"White Matter\", 60, \"B\")\n",
    "\n",
    "# Plot for sGMV Curve\n",
    "plot_sgmv <- create_volume_plot(CURVE_sGMV, \"Subcortical Gray Matter\", 8, \"C\")\n",
    "\n",
    "# Plot for Ventricles Curve\n",
    "plot_ventricles <- create_volume_plot(CURVE_Ventricles, \"Ventricles\", 5, \"D\")\n",
    "\n",
    "# Combine plots into one grid\n",
    "#combined_plot <- plot_gmv + plot_wmv + plot_sgmv + plot_ventricles\n",
    "\n",
    "# Display the combined plot\n",
    "#print(combined_plot)\n"
   ]
  },
  {
   "cell_type": "code",
   "execution_count": null,
   "id": "6cc89ce4",
   "metadata": {},
   "outputs": [],
   "source": [
    "options(warn=-1)\n",
    "\n",
    "library(cowplot)\n",
    "plot_grid(plot_gmv,\n",
    "          plot_wmv,\n",
    "          plot_sgmv,\n",
    "          plot_ventricles + ylim(0, 40),\n",
    "          labels=c('A','B','C','D'),\n",
    "          label_size=30,\n",
    "          nrow=2,\n",
    "          ncol=2,\n",
    "          label_fontfamily = 'ArialNarrow'\n",
    "         )"
   ]
  },
  {
   "cell_type": "code",
   "execution_count": null,
   "id": "d6e4a259",
   "metadata": {},
   "outputs": [],
   "source": []
  },
  {
   "cell_type": "code",
   "execution_count": null,
   "id": "34f1b0db",
   "metadata": {},
   "outputs": [],
   "source": []
  },
  {
   "cell_type": "code",
   "execution_count": null,
   "id": "4ab77e73",
   "metadata": {},
   "outputs": [],
   "source": []
  },
  {
   "cell_type": "code",
   "execution_count": null,
   "id": "f4289f4a",
   "metadata": {},
   "outputs": [],
   "source": []
  },
  {
   "cell_type": "code",
   "execution_count": null,
   "id": "76fd524a",
   "metadata": {},
   "outputs": [],
   "source": []
  }
 ],
 "metadata": {
  "kernelspec": {
   "display_name": "R [conda env:r_ibra]",
   "language": "R",
   "name": "conda-env-r_ibra-r"
  },
  "language_info": {
   "codemirror_mode": "r",
   "file_extension": ".r",
   "mimetype": "text/x-r-source",
   "name": "R",
   "pygments_lexer": "r",
   "version": "4.3.1"
  }
 },
 "nbformat": 4,
 "nbformat_minor": 5
}
