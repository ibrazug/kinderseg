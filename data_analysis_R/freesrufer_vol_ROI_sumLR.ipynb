{
 "cells": [
  {
   "cell_type": "code",
   "execution_count": null,
   "id": "8688288c",
   "metadata": {},
   "outputs": [],
   "source": [
    "library(tidyverse)\n",
    "library(hrbrthemes)\n",
    "library(zoo)\n",
    "library(dplyr)\n",
    "\n",
    "options(repr.plot.width = 18, repr.plot.height = 18)"
   ]
  },
  {
   "cell_type": "code",
   "execution_count": null,
   "id": "b5924b0b",
   "metadata": {},
   "outputs": [],
   "source": [
    "#add the path of the folder with freesurfer_aseg.volume.stats.csv \n",
    "\n",
    "path <- \"\"\n",
    "\n",
    "freesurfer_aseg <- read.csv(file.path(path, \"freesurfer_aseg.volume.stats.csv\"), sep = \"\\t\")\n",
    "df <- freesurfer_aseg %>% rename (IDs = \"Measure.volume\", eTIV = \"EstimatedTotalIntraCranialVol\")"
   ]
  },
  {
   "cell_type": "code",
   "execution_count": null,
   "id": "10881fd8",
   "metadata": {},
   "outputs": [],
   "source": [
    "df <- df %>% mutate(Frontal = ctx.lh.caudalmiddlefrontal + ctx.rh.caudalmiddlefrontal + \n",
    "                ctx.lh.lateralorbitofrontal + ctx.rh.lateralorbitofrontal +\n",
    "                ctx.lh.medialorbitofrontal + ctx.rh.medialorbitofrontal +\n",
    "                ctx.lh.parsopercularis + ctx.rh.parsopercularis +\n",
    "                ctx.lh.parsorbitalis + ctx.rh.parsorbitalis +\n",
    "                ctx.lh.parstriangularis + ctx.rh.parstriangularis +\n",
    "                ctx.lh.precentral + ctx.rh.precentral +\n",
    "                ctx.lh.rostralmiddlefrontal + ctx.rh.rostralmiddlefrontal +\n",
    "                ctx.lh.superiorfrontal + ctx.rh.superiorfrontal,\n",
    "               Temporal = ctx.lh.entorhinal + ctx.rh.entorhinal +\n",
    "                 ctx.lh.fusiform + ctx.rh.fusiform +\n",
    "                 ctx.lh.inferiortemporal + ctx.rh.inferiortemporal +\n",
    "                 ctx.lh.middletemporal + ctx.rh.middletemporal +\n",
    "                 ctx.lh.parahippocampal + ctx.rh.parahippocampal +\n",
    "                 ctx.lh.superiortemporal + ctx.rh.superiortemporal +\n",
    "                 ctx.lh.transversetemporal + ctx.rh.transversetemporal +\n",
    "                 Left.Amygdala + Right.Amygdala,\n",
    "               Hippocampus = Left.Hippocampus + Right.Hippocampus,\n",
    "               Frontal_Parietal = ctx.lh.paracentral + ctx.rh.paracentral,\n",
    "               Parietal = ctx.lh.inferiorparietal + ctx.rh.inferiorparietal +\n",
    "                          ctx.lh.postcentral + ctx.rh.postcentral +\n",
    "                          ctx.lh.precuneus + ctx.rh.precuneus +\n",
    "                          ctx.lh.superiorparietal + ctx.rh.superiorparietal +\n",
    "                          ctx.lh.supramarginal + ctx.rh.supramarginal,\n",
    "               Insula = ctx.lh.insula + ctx.rh.insula,\n",
    "               Cingulate = ctx.lh.caudalanteriorcingulate + ctx.rh.caudalanteriorcingulate +\n",
    "                           ctx.lh.isthmuscingulate + ctx.rh.isthmuscingulate +\n",
    "                           ctx.lh.posteriorcingulate + ctx.rh.posteriorcingulate +\n",
    "                           ctx.lh.rostralanteriorcingulate + ctx.rh.rostralanteriorcingulate,\n",
    "               Occipital = ctx.lh.cuneus + ctx.rh.cuneus +\n",
    "                           ctx.lh.lateraloccipital + ctx.rh.lateraloccipital +\n",
    "                           ctx.lh.lingual + ctx.rh.lingual +\n",
    "                           ctx.lh.pericalcarine + ctx.rh.pericalcarine,\n",
    "               BasalGanglia = Left.Caudate + Right.Caudate + Left.Putamen + Right.Putamen +\n",
    "                              Left.Pallidum + Right.Pallidum + Left.Accumbens.area + Right.Accumbens.area,\n",
    "               Thalamus = Left.Thalamus.Proper + Right.Thalamus.Proper,\n",
    "               Cerebellum = Left.Cerebellum.White.Matter + Right.Cerebellum.White.Matter +\n",
    "                            Left.Cerebellum.Cortex + Right.Cerebellum.Cortex,\n",
    "               CorpusCallosum = CC_Posterior + CC_Mid_Posterior + CC_Central + CC_Mid_Anterior + CC_Anterior,\n",
    "               Ventricles = Left.Lateral.Ventricle + Right.Lateral.Ventricle + \n",
    "                            Left.Inf.Lat.Vent + Right.Inf.Lat.Vent +\n",
    "                            Left.choroid.plexus + Right.choroid.plexus +\n",
    "                            X3rd.Ventricle + X4th.Ventricle + CSF,\n",
    "                VentralDC = Left.VentralDC + Right.VentralDC,\n",
    "                WM = Left.Cerebral.White.Matter + Right.Cerebral.White.Matter,\n",
    "                Brainstem = Brain.Stem) %>%\n",
    "    select(IDs, Frontal, Temporal, Hippocampus, Frontal_Parietal, Parietal, Insula, Cingulate, Occipital,, BasalGanglia,\n",
    "           Thalamus, Cerebellum, CorpusCallosum, Ventricles, VentralDC, WM, Brainstem, eTIV)"
   ]
  },
  {
   "cell_type": "code",
   "execution_count": null,
   "id": "048b057e",
   "metadata": {},
   "outputs": [],
   "source": [
    "#df %>% saveRDS(file.path(path,\"Volume_Sum_R/freesurfer_absolute_summed_vols.rds\"))"
   ]
  },
  {
   "cell_type": "code",
   "execution_count": null,
   "id": "7f8ba40b",
   "metadata": {},
   "outputs": [],
   "source": [
    "brain_regions <- c(\"Frontal\", \"Temporal\", \"Hippocampus\", \"Frontal_Parietal\", \"Parietal\",\n",
    "                   \"Insula\", \"Cingulate\", \"Occipital\", \"BasalGanglia\", \"Thalamus\", \n",
    "                   \"Cerebellum\", \"CorpusCallosum\", \"Ventricles\", \"VentralDC\", \"WM\", \"Brainstem\")\n",
    "\n",
    "for (col in brain_regions){\n",
    "    df[[col]] = df[[col]] / df[[\"eTIV\"]]\n",
    "}\n",
    "df <- df %>% select(-eTIV)"
   ]
  },
  {
   "cell_type": "code",
   "execution_count": null,
   "id": "06a27ea9",
   "metadata": {},
   "outputs": [],
   "source": [
    "#df %>% saveRDS(file.path(path,\"Volume_Sum_R/freesurfer_relative_summed_vols.rds\"))"
   ]
  },
  {
   "cell_type": "code",
   "execution_count": null,
   "id": "b4cd1498",
   "metadata": {},
   "outputs": [],
   "source": [
    "df"
   ]
  },
  {
   "cell_type": "code",
   "execution_count": null,
   "id": "5654d9cf",
   "metadata": {},
   "outputs": [],
   "source": []
  },
  {
   "cell_type": "code",
   "execution_count": null,
   "id": "ec953984",
   "metadata": {},
   "outputs": [],
   "source": []
  },
  {
   "cell_type": "code",
   "execution_count": null,
   "id": "42e92794",
   "metadata": {},
   "outputs": [],
   "source": []
  },
  {
   "cell_type": "code",
   "execution_count": null,
   "id": "4400e81c",
   "metadata": {},
   "outputs": [],
   "source": []
  },
  {
   "cell_type": "code",
   "execution_count": null,
   "id": "39697e9c",
   "metadata": {},
   "outputs": [],
   "source": []
  },
  {
   "cell_type": "code",
   "execution_count": null,
   "id": "3b6c72d2",
   "metadata": {},
   "outputs": [],
   "source": []
  }
 ],
 "metadata": {
  "kernelspec": {
   "display_name": "R [conda env:r_ibra]",
   "language": "R",
   "name": "conda-env-r_ibra-r"
  },
  "language_info": {
   "codemirror_mode": "r",
   "file_extension": ".r",
   "mimetype": "text/x-r-source",
   "name": "R",
   "pygments_lexer": "r",
   "version": "4.3.1"
  }
 },
 "nbformat": 4,
 "nbformat_minor": 5
}
