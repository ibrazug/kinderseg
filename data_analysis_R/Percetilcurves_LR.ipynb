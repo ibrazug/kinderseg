{
 "cells": [
  {
   "cell_type": "code",
   "execution_count": null,
   "id": "d6f33815-1d47-4b03-9271-ac3c45975de2",
   "metadata": {
    "scrolled": false
   },
   "outputs": [],
   "source": [
    "library(tidyverse)\n",
    "library(hrbrthemes)\n",
    "library(zoo)\n",
    "options(repr.plot.width = 18, repr.plot.height = 18)"
   ]
  },
  {
   "cell_type": "code",
   "execution_count": null,
   "id": "a9d3ab8d",
   "metadata": {},
   "outputs": [],
   "source": [
    "#read demograpgics file, QualityCheck file, and Volumes file"
   ]
  },
  {
   "cell_type": "code",
   "execution_count": null,
   "id": "53f647ba",
   "metadata": {},
   "outputs": [],
   "source": []
  },
  {
   "cell_type": "code",
   "execution_count": null,
   "id": "5e02ef2f",
   "metadata": {},
   "outputs": [],
   "source": [
    "demog <- \n",
    "qc <- \n",
    "vols <- "
   ]
  },
  {
   "cell_type": "code",
   "execution_count": null,
   "id": "48cc7353",
   "metadata": {},
   "outputs": [],
   "source": [
    "vols %>%\n",
    "filter( ids == \"sub-k10010\")"
   ]
  },
  {
   "cell_type": "code",
   "execution_count": null,
   "id": "e2f46844",
   "metadata": {},
   "outputs": [],
   "source": [
    "#normalization \n",
    "\n",
    "vols <- vols %>%   mutate(\n",
    "    across(\n",
    "      c('Frontal', 'Temporal', 'Hippocampus', 'Frontal_Parietal', \n",
    "        'Parietal', 'Insula', 'Cingulate', 'Occipital', 'BasalGanglia', \n",
    "        'Thalamus', 'Cerebellum', 'CorpusCallosum', 'Ventricles', \n",
    "        'VentralDC', 'WM', 'Brainstem'),\n",
    "      ~ . / (eTIV)\n",
    "    )\n",
    "  )\n"
   ]
  },
  {
   "cell_type": "code",
   "execution_count": null,
   "id": "869696f6",
   "metadata": {},
   "outputs": [],
   "source": [
    "vols <- merge(demog,vols, by='ids')"
   ]
  },
  {
   "cell_type": "code",
   "execution_count": null,
   "id": "0f2df317-eb36-4616-a1a5-380d1a6aaeaa",
   "metadata": {},
   "outputs": [],
   "source": [
    "data <- merge(vols,\n",
    "              qc,\n",
    "              by='ids') %>% filter(inclusion == 'yes') %>% select(-inclusion)"
   ]
  },
  {
   "cell_type": "code",
   "execution_count": null,
   "id": "eb45a643-8e8f-43fb-ba76-5f5ed09ed983",
   "metadata": {},
   "outputs": [],
   "source": [
    "data %>% head()"
   ]
  },
  {
   "cell_type": "code",
   "execution_count": null,
   "id": "ad3aa601",
   "metadata": {},
   "outputs": [],
   "source": []
  },
  {
   "cell_type": "code",
   "execution_count": null,
   "id": "94183b04-d034-4b8b-87db-a6086facc01b",
   "metadata": {},
   "outputs": [],
   "source": [
    "\n",
    "mov_perc <- data %>% \n",
    "select (-sex) %>%\n",
    "gather(key='ROI', value='Volume', -c(ids, age, eTIV, hemisphere,)) %>%\n",
    "mutate(r_age = round(age,0)) %>%\n",
    "arrange(age) %>%\n",
    "group_by(ROI) %>%\n",
    "summarize(p05=rollapply(Volume,5,quantile,prob=0.05, fill=NA),\n",
    "          p50=rollapply(Volume,5,quantile,prob=0.50,fill=NA),\n",
    "         p95=rollapply(Volume,5,quantile,prob=0.95,fill=NA))\n",
    "\n",
    "mov_perc %>% head()"
   ]
  },
  {
   "cell_type": "code",
   "execution_count": null,
   "id": "cdef97e7",
   "metadata": {},
   "outputs": [],
   "source": [
    "data %>% \n",
    "gather(key='ROI', value='Volume', -c(ids, age, sex, hemisphere, eTIV)) %>%\n",
    "arrange(ROI, age) %>%\n",
    "mutate(p05 = mov_perc$p05, p50 = mov_perc$p50, p95 = mov_perc$p95) %>%\n",
    "\n",
    "ggplot(aes(x=age, y=Volume, color=ROI))+\n",
    "geom_jitter(aes(shape = hemisphere), alpha=0.3)+\n",
    "geom_smooth(aes(x=age, y=p05), color='black', se=F, method='loess', span = 1)+\n",
    "geom_smooth(aes(x=age, y=p50), color='black', se=F, method='loess', span = 1)+\n",
    "geom_smooth(aes(x=age, y=p95), color='black', se=F, method='loess', span = 1)+\n",
    "facet_wrap(~ROI, scale='free_y')+\n",
    "ylab(\"Relative Volume\") + \n",
    "xlab(\"Age (year)\")+\n",
    "theme_ipsum()+\n",
    "scale_x_continuous(breaks = c(seq(0, 18, by = 3))) + \n",
    "\n",
    "\n",
    "scale_color_viridis_d(option='A',begin =0 , end = 0.75) + # Specify darker shades\n",
    "    theme(\n",
    "    axis.title.x=element_text(size=45),\n",
    "    axis.title.y=element_text(size=45),\n",
    "    strip.text = element_text(size = 22, face = \"bold\"),\n",
    "    axis.text.x = element_text(size=25),#, angle=90,hjust=0.95,vjust=0.2),\n",
    "    axis.text.y = element_text(size=25),\n",
    "    legend.title = element_text(size=22),\n",
    "    legend.text = element_text(size=22),\n",
    "            legend.position='none'\n",
    "\n",
    "     )"
   ]
  },
  {
   "cell_type": "code",
   "execution_count": null,
   "id": "6b63babd",
   "metadata": {},
   "outputs": [],
   "source": [
    "# Save data frames as RDS\n",
    "#saveRDS(data, \"Percetilcurves_LR.rds\")"
   ]
  },
  {
   "cell_type": "code",
   "execution_count": null,
   "id": "6ad1046b",
   "metadata": {},
   "outputs": [],
   "source": [
    "#data %>% select(-c('ids','sex','age','eTIV', 'hemisphere')) %>% rowSums"
   ]
  },
  {
   "cell_type": "code",
   "execution_count": null,
   "id": "8124e999",
   "metadata": {},
   "outputs": [],
   "source": []
  },
  {
   "cell_type": "code",
   "execution_count": null,
   "id": "7ab389a3",
   "metadata": {},
   "outputs": [],
   "source": []
  },
  {
   "cell_type": "code",
   "execution_count": null,
   "id": "0052be1e",
   "metadata": {},
   "outputs": [],
   "source": []
  },
  {
   "cell_type": "code",
   "execution_count": null,
   "id": "571b2663",
   "metadata": {},
   "outputs": [],
   "source": []
  },
  {
   "cell_type": "code",
   "execution_count": null,
   "id": "073b370d",
   "metadata": {},
   "outputs": [],
   "source": []
  },
  {
   "cell_type": "code",
   "execution_count": null,
   "id": "0dfbf852",
   "metadata": {},
   "outputs": [],
   "source": []
  },
  {
   "cell_type": "code",
   "execution_count": null,
   "id": "a94234dd",
   "metadata": {},
   "outputs": [],
   "source": []
  },
  {
   "cell_type": "code",
   "execution_count": null,
   "id": "2cf205c7",
   "metadata": {},
   "outputs": [],
   "source": []
  },
  {
   "cell_type": "code",
   "execution_count": null,
   "id": "b058e622",
   "metadata": {},
   "outputs": [],
   "source": []
  },
  {
   "cell_type": "code",
   "execution_count": null,
   "id": "94369826",
   "metadata": {},
   "outputs": [],
   "source": []
  },
  {
   "cell_type": "code",
   "execution_count": null,
   "id": "a27e58af",
   "metadata": {},
   "outputs": [],
   "source": []
  },
  {
   "cell_type": "code",
   "execution_count": null,
   "id": "9d5bc2c3",
   "metadata": {},
   "outputs": [],
   "source": []
  },
  {
   "cell_type": "code",
   "execution_count": null,
   "id": "dc5eefca",
   "metadata": {},
   "outputs": [],
   "source": []
  },
  {
   "cell_type": "code",
   "execution_count": null,
   "id": "759c6540",
   "metadata": {},
   "outputs": [],
   "source": []
  },
  {
   "cell_type": "code",
   "execution_count": null,
   "id": "a58ff852",
   "metadata": {},
   "outputs": [],
   "source": []
  },
  {
   "cell_type": "code",
   "execution_count": null,
   "id": "f0b10630",
   "metadata": {},
   "outputs": [],
   "source": []
  },
  {
   "cell_type": "code",
   "execution_count": null,
   "id": "750cb121",
   "metadata": {},
   "outputs": [],
   "source": []
  },
  {
   "cell_type": "code",
   "execution_count": null,
   "id": "72efffd0",
   "metadata": {},
   "outputs": [],
   "source": []
  },
  {
   "cell_type": "code",
   "execution_count": null,
   "id": "c9224321",
   "metadata": {},
   "outputs": [],
   "source": []
  },
  {
   "cell_type": "code",
   "execution_count": null,
   "id": "3effa62b",
   "metadata": {},
   "outputs": [],
   "source": []
  },
  {
   "cell_type": "code",
   "execution_count": null,
   "id": "5865faba",
   "metadata": {},
   "outputs": [],
   "source": []
  },
  {
   "cell_type": "code",
   "execution_count": null,
   "id": "950b6a68",
   "metadata": {},
   "outputs": [],
   "source": []
  },
  {
   "cell_type": "code",
   "execution_count": null,
   "id": "7edbafff",
   "metadata": {},
   "outputs": [],
   "source": []
  },
  {
   "cell_type": "code",
   "execution_count": null,
   "id": "21d2dcc4",
   "metadata": {},
   "outputs": [],
   "source": []
  },
  {
   "cell_type": "code",
   "execution_count": null,
   "id": "ad765628",
   "metadata": {},
   "outputs": [],
   "source": []
  },
  {
   "cell_type": "code",
   "execution_count": null,
   "id": "4cc9f2be",
   "metadata": {},
   "outputs": [],
   "source": []
  },
  {
   "cell_type": "code",
   "execution_count": null,
   "id": "aaa23926",
   "metadata": {},
   "outputs": [],
   "source": []
  },
  {
   "cell_type": "code",
   "execution_count": null,
   "id": "58840c22",
   "metadata": {},
   "outputs": [],
   "source": []
  },
  {
   "cell_type": "code",
   "execution_count": null,
   "id": "2d87cedb",
   "metadata": {},
   "outputs": [],
   "source": []
  }
 ],
 "metadata": {
  "kernelspec": {
   "display_name": "R [conda env:r_ibra]",
   "language": "R",
   "name": "conda-env-r_ibra-r"
  },
  "language_info": {
   "codemirror_mode": "r",
   "file_extension": ".r",
   "mimetype": "text/x-r-source",
   "name": "R",
   "pygments_lexer": "r",
   "version": "4.3.1"
  }
 },
 "nbformat": 4,
 "nbformat_minor": 5
}
