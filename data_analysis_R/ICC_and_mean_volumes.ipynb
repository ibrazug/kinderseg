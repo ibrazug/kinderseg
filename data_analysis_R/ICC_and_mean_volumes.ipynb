{
 "cells": [
  {
   "cell_type": "code",
   "execution_count": null,
   "id": "087538f5",
   "metadata": {},
   "outputs": [],
   "source": [
    "options(repr.plot.width = 20, repr.plot.height = 20)"
   ]
  },
  {
   "cell_type": "code",
   "execution_count": null,
   "id": "f2cac6a6-a213-4d52-af5c-bab73156581c",
   "metadata": {
    "scrolled": true
   },
   "outputs": [],
   "source": [
    "library(tidyverse)\n",
    "library(rstatix)\n",
    "library(ggplot2)\n",
    "library(hrbrthemes)\n",
    "library(irr)"
   ]
  },
  {
   "cell_type": "code",
   "execution_count": null,
   "id": "af72ee2d-660f-4a23-81e9-dcf29fafe2e4",
   "metadata": {},
   "outputs": [],
   "source": [
    "t_fast <- readRDS(\"fastsurfer_absolute_summed_vols.rds\") %>%\n",
    "\n",
    "\n",
    "gather(key='ROI', value='vol_fast', -IDs)\n",
    "t_fast %>% head()"
   ]
  },
  {
   "cell_type": "code",
   "execution_count": null,
   "id": "c1caf1a7-fdda-4f30-a68b-feddb3a9e882",
   "metadata": {
    "scrolled": true
   },
   "outputs": [],
   "source": [
    "t_free <-readRDS(\"freesurfer_absolute_summed_vols.rds\") %>%\n",
    "mutate(IDs = gsub('([0-9a-zA-Z_-]*).reconall','\\\\1', IDs)) %>%\n",
    "gather(key='ROI', value='vol_free', -IDs)\n",
    "\n",
    "t_free %>% head()"
   ]
  },
  {
   "cell_type": "code",
   "execution_count": null,
   "id": "e2f29cbf-6d2a-4f33-b339-077894c39974",
   "metadata": {},
   "outputs": [],
   "source": [
    "res = T\n",
    "for (i in t_free$ROI %>% unique()) {\n",
    "    res & (i %in% (t_free$ROI %>% unique()))\n",
    "    }\n"
   ]
  },
  {
   "cell_type": "code",
   "execution_count": null,
   "id": "173b4b09-1e01-42d6-9469-a6e035e43c34",
   "metadata": {},
   "outputs": [],
   "source": [
    "data <- merge(t_free, t_fast, by=c('IDs', 'ROI'))"
   ]
  },
  {
   "cell_type": "code",
   "execution_count": null,
   "id": "32514da3",
   "metadata": {
    "scrolled": true
   },
   "outputs": [],
   "source": [
    "qc <- read.table('/home/ibrazug/Dokumente/KindersegV2/QC_SC_RESULT(final).csv', sep=',', header=T) %>%\n",
    "select(c(subject, qc_inclusion)) %>% rename(IDs = subject) \n"
   ]
  },
  {
   "cell_type": "code",
   "execution_count": null,
   "id": "fe4e653c",
   "metadata": {},
   "outputs": [],
   "source": [
    "data <- merge(data,\n",
    "              qc,\n",
    "              by='IDs') %>% filter(qc_inclusion == 'yes') %>% select(-qc_inclusion)"
   ]
  },
  {
   "cell_type": "code",
   "execution_count": null,
   "id": "7a156aa6",
   "metadata": {},
   "outputs": [],
   "source": [
    "data %>%\n",
    "  group_by(ROI) %>%\n",
    "  summarize(\n",
    "    agreement = icc(cbind(vol_fast, vol_free), \"twoway\", 'agreement')$value,\n",
    "    lCI = icc(cbind(vol_fast, vol_free), \"twoway\", 'agreement')$lbound,\n",
    "    uCI = icc(cbind(vol_fast, vol_free), \"twoway\", 'agreement')$ubound,\n",
    "    mean_vol = mean((vol_fast + vol_free) / 2, na.rm = TRUE),\n",
    "    sd_mean_vol = sd((vol_fast + vol_free) / 2, na.rm = TRUE),\n",
    "  )\n",
    "\n"
   ]
  },
  {
   "cell_type": "code",
   "execution_count": null,
   "id": "6bf5cd69",
   "metadata": {},
   "outputs": [],
   "source": []
  },
  {
   "cell_type": "code",
   "execution_count": null,
   "id": "0314c8b3",
   "metadata": {},
   "outputs": [],
   "source": []
  }
 ],
 "metadata": {
  "kernelspec": {
   "display_name": "R [conda env:r_ibra]",
   "language": "R",
   "name": "conda-env-r_ibra-r"
  },
  "language_info": {
   "codemirror_mode": "r",
   "file_extension": ".r",
   "mimetype": "text/x-r-source",
   "name": "R",
   "pygments_lexer": "r",
   "version": "4.3.1"
  }
 },
 "nbformat": 4,
 "nbformat_minor": 5
}
