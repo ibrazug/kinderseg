{
 "cells": [
  {
   "cell_type": "code",
   "execution_count": null,
   "id": "ce7d761f",
   "metadata": {
    "scrolled": true
   },
   "outputs": [],
   "source": [
    "%%bash\n",
    "subs_dir=\"/path/to/your/fastsurfer/output\"\n",
    "\n",
    "cd $subs_dir\n",
    "export SUBJECTS_DIR=$PWD\n",
    "subs=($( ls -1d sub*))\n",
    "\n",
    "asegstats2table --subjects ${subs[@]} \\\n",
    "                --skip --all-segs\\\n",
    "                --tablefile $subs_dir/volume.stats.csv \\\n",
    "                --statsfile=aparc.DKTatlas+aseg.deep.volume.stats \\\n",
    "                --common-segs --meas volume\n",
    "\n",
    "\n",
    "#etiv\n",
    "echo \"IDs,eTIV\" > $subs_dir/eTIV.stats.csv\n",
    "\n",
    "for sub in ${subs[@]}\n",
    "do\n",
    "    etiv=$(mri_segstats --etiv-only --subject $sub | grep eTIV | awk -F \" \" '{print $4}')    \n",
    "    echo \"$sub,$etiv\" >> $subs_dir/eTIV.stats.csv\n",
    "    echo eTIV writter to $subs_dir/eTIV.stats.csv\n",
    "done"
   ]
  },
  {
   "cell_type": "code",
   "execution_count": null,
   "id": "4b86cf9d",
   "metadata": {},
   "outputs": [],
   "source": []
  }
 ],
 "metadata": {
  "kernelspec": {
   "display_name": "Python 3 (ipykernel)",
   "language": "python",
   "name": "python3"
  },
  "language_info": {
   "codemirror_mode": {
    "name": "ipython",
    "version": 3
   },
   "file_extension": ".py",
   "mimetype": "text/x-python",
   "name": "python",
   "nbconvert_exporter": "python",
   "pygments_lexer": "ipython3",
   "version": "3.10.1"
  }
 },
 "nbformat": 4,
 "nbformat_minor": 5
}
