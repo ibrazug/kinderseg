{
 "cells": [
  {
   "cell_type": "code",
   "execution_count": 17,
   "metadata": {},
   "outputs": [],
   "source": [
    "import nibabel as nib\n",
    "from skimage.transform import resize\n",
    "import numpy as np\n",
    "import os\n",
    "import glob\n",
    "from joblib import Parallel, delayed"
   ]
  },
  {
   "cell_type": "code",
   "execution_count": null,
   "metadata": {},
   "outputs": [],
   "source": [
    "fastsurfer_vinn_dir = '/home/ibrazug/Dokumente/KindersegV2/Ibra/derivatives/FastSurferVINN'\n",
    "freesurfer6_dir = '/home/ibrazug/Dokumente/KindersegV2/Ibra/derivatives/FREESURFER_SEG'\n",
    "freesurfer6_resized_dir = '/home/ibrazug/Dokumente/KindersegV2/Ibra/derivatives/Freesurfer6_resized'\n",
    "sids = [x for x in os.listdir(fastsurfer_vinn_dir) if x.startswith('sub-')]\n",
    "len(sids)"
   ]
  },
  {
   "cell_type": "code",
   "execution_count": 19,
   "metadata": {},
   "outputs": [],
   "source": [
    "mask_labels = [ 1,  2,  3,  4,  5,  6,  7,  8,  9, 10, 11, 12, 13, 14, 15, 16]"
   ]
  },
  {
   "cell_type": "code",
   "execution_count": 20,
   "metadata": {},
   "outputs": [],
   "source": [
    "def resize_mask(mask, new_shape):\n",
    "    return resize(mask, new_shape, order=0, mode='constant', anti_aliasing=False, preserve_range=True)\n",
    "\n",
    "def dice_score(mask1, mask2, n=1):\n",
    "    mask1 = np.where(mask1 == n, 1, 0).astype(bool)\n",
    "    mask2 = np.where(mask2 == n, 1, 0).astype(bool)\n",
    "    intersection = np.sum(mask1 & mask2)\n",
    "    return 2 * intersection / (np.sum(mask1) + np.sum(mask2))"
   ]
  },
  {
   "cell_type": "code",
   "execution_count": null,
   "metadata": {},
   "outputs": [],
   "source": [
    "dscs = dict()\n",
    "for sid in sids:\n",
    "    try:\n",
    "        fastsurfer_mask = glob.glob(f'{fastsurfer_vinn_dir}/{sid}/mri/aparc.DKTatlas+aseg.deep.mgz')[0]\n",
    "        freesurfer_mask = glob.glob(f'{freesurfer6_dir}/{sid}.reconall/mri/aparc.DKTatlas+aseg.mgz')[0]\n",
    "    except:\n",
    "        print(f'No mask found for {sid}')\n",
    "        continue\n",
    "    freesurfer_mask_nii = nib.load(freesurfer_mask)\n",
    "    freesurfer_mask_data = freesurfer_mask_nii.get_fdata().round(0).astype(np.uint8)\n",
    "    fastsurfer_mask = nib.load(fastsurfer_mask)\n",
    "    fastsurfer_mask_data = fastsurfer_mask.get_fdata().round(0).astype(np.uint8)\n",
    "    fastsurfer_mask_shape = fastsurfer_mask_data.shape\n",
    "    freesurfer_mask_data_resized = resize_mask(freesurfer_mask_data, fastsurfer_mask_shape)\n",
    "    dscs[sid] = Parallel(n_jobs=16)(delayed(dice_score)(fastsurfer_mask_data, freesurfer_mask_data_resized, n) for n in mask_labels)\n",
    "    freesurfer_mask_resized_nii = nib.Nifti1Image(freesurfer_mask_data_resized, fastsurfer_mask.affine, fastsurfer_mask.header)\n",
    "    nib.save(freesurfer_mask_resized_nii, f'{freesurfer6_resized_dir}/{sid}.nii.gz')\n"
   ]
  },
  {
   "cell_type": "code",
   "execution_count": null,
   "metadata": {},
   "outputs": [],
   "source": [
    "fastsurfer_resized_dir = '/home/ibrazug/Dokumente/KindersegV2/Ibra/derivatives/FastSurferVINN_resized'\n",
    "dscs2 = dict()\n",
    "for sid in sids:\n",
    "    try:\n",
    "        fastsurfer_mask = glob.glob(f'{fastsurfer_vinn_dir}/{sid}/mri/aparc.DKTatlas+aseg.deep.mgz')[0]\n",
    "        freesurfer_mask = glob.glob(f'{freesurfer6_dir}/{sid}.reconall/mri/aparc.DKTatlas+aseg.mgz')[0]\n",
    "    except:\n",
    "        print(f'No mask found for {sid}')\n",
    "        continue\n",
    "    freesurfer_mask_nii = nib.load(freesurfer_mask)\n",
    "    freesurfer_mask_data = freesurfer_mask_nii.get_fdata().round(0).astype(np.uint8)\n",
    "    fastsurfer_mask = nib.load(fastsurfer_mask)\n",
    "    fastsurfer_mask_data = fastsurfer_mask.get_fdata().round(0).astype(np.uint8)\n",
    "    freesurfer_mask_shape = freesurfer_mask_data.shape\n",
    "    fastsurfer_mask_data_resized = resize_mask(fastsurfer_mask_data, freesurfer_mask_shape)\n",
    "    dscs2[sid] = Parallel(n_jobs=16)(delayed(dice_score)(fastsurfer_mask_data_resized, freesurfer_mask_data, n) for n in mask_labels)\n",
    "    fastsurfer_mask_resized_nii = nib.Nifti1Image(fastsurfer_mask_data_resized, freesurfer_mask_nii.affine, freesurfer_mask_nii.header)\n",
    "    nib.save(fastsurfer_mask_resized_nii, f'{fastsurfer_resized_dir}/{sid}.nii.gz')\n"
   ]
  },
  {
   "cell_type": "code",
   "execution_count": null,
   "metadata": {},
   "outputs": [],
   "source": [
    "import pandas as pd"
   ]
  },
  {
   "cell_type": "code",
   "execution_count": null,
   "metadata": {},
   "outputs": [],
   "source": [
    "dscs_df2 = pd.DataFrame(dscs).T\n",
    "dscs_df2.columns = mask_labels\n",
    "dscs_df2['class'] = 'freesurfer_resized'\n",
    "\n",
    "dscs_df = pd.DataFrame(dscs2).T\n",
    "dscs_df.columns = mask_labels\n",
    "dscs_df['class'] = 'fastsurfer_resized'\n",
    "\n",
    "dscs_df = pd.concat([dscs_df, dscs_df2])"
   ]
  },
  {
   "cell_type": "code",
   "execution_count": null,
   "metadata": {},
   "outputs": [],
   "source": [
    "dscs_df.head()"
   ]
  },
  {
   "cell_type": "code",
   "execution_count": 32,
   "metadata": {},
   "outputs": [],
   "source": [
    "dscs_df.to_csv('/home/ibrazug/Dokumente/KindersegV2/review_data/dscs.csv', index=True)"
   ]
  },
  {
   "cell_type": "code",
   "execution_count": null,
   "metadata": {},
   "outputs": [],
   "source": []
  }
 ],
 "metadata": {
  "kernelspec": {
   "display_name": "Python 3 (ipykernel)",
   "language": "python",
   "name": "python3"
  },
  "language_info": {
   "codemirror_mode": {
    "name": "ipython",
    "version": 3
   },
   "file_extension": ".py",
   "mimetype": "text/x-python",
   "name": "python",
   "nbconvert_exporter": "python",
   "pygments_lexer": "ipython3",
   "version": "3.10.15"
  }
 },
 "nbformat": 4,
 "nbformat_minor": 2
}
