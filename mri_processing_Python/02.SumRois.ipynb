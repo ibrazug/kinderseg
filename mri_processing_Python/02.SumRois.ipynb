{
 "cells": [
  {
   "cell_type": "code",
   "execution_count": 16,
   "metadata": {},
   "outputs": [],
   "source": [
    "import glob\n",
    "import os\n",
    "import sys\n",
    "from joblib import Parallel, delayed\n",
    "import importlib\n",
    "import nibabel as nib\n",
    "import numpy as np\n",
    "from joblib import Parallel, delayed\n",
    "import pandas as pd"
   ]
  },
  {
   "cell_type": "code",
   "execution_count": null,
   "metadata": {},
   "outputs": [],
   "source": [
    "sys.path.append(os.path.abspath('..'))\n",
    "from kinderseg import sums\n",
    "importlib.reload(sums)"
   ]
  },
  {
   "cell_type": "markdown",
   "metadata": {},
   "source": [
    "## Sum Segmentation Mask ROIs"
   ]
  },
  {
   "cell_type": "code",
   "execution_count": 3,
   "metadata": {},
   "outputs": [],
   "source": [
    "dest_root = '/home/ibrazug/Dokumente/KindersegV2/Ibra/derivatives'\n",
    "dest_vinn_dir = os.path.join(dest_root, 'SumRoi_FastsurferVINN')\n",
    "dest_fs7_dir = os.path.join(dest_root, 'SumRoi_Freesurfer7')\n",
    "if not os.path.exists(dest_vinn_dir):\n",
    "    os.makedirs(dest_vinn_dir)\n",
    "if not os.path.exists(dest_fs7_dir):\n",
    "    os.makedirs(dest_fs7_dir)"
   ]
  },
  {
   "cell_type": "code",
   "execution_count": null,
   "metadata": {},
   "outputs": [],
   "source": [
    "src_vinn_dir = '/home/ibrazug/Dokumente/KindersegV2/Ibra/derivatives/FastSurferVINN' \n",
    "src_files = glob.glob(os.path.join(src_vinn_dir, 'sub-*', 'mri', 'aparc.DKTatlas+aseg.deep.withCC.mgz'))\n",
    "len(src_files)"
   ]
  },
  {
   "cell_type": "code",
   "execution_count": 60,
   "metadata": {},
   "outputs": [],
   "source": [
    "vinn_sids = [f.split('/')[-3] for f in src_files]"
   ]
  },
  {
   "cell_type": "code",
   "execution_count": 60,
   "metadata": {},
   "outputs": [],
   "source": [
    "def do_the_job(i):\n",
    "    sid = i.split('/')[-3]\n",
    "    dest_i = os.path.join(dest_vinn_dir, sid + '_SumRoi.nii.gz')\n",
    "    sums.SumNiiRois(src='FS7', n_jobs=-1).transform(i).to_filename(dest_i)\n",
    "    return dest_i"
   ]
  },
  {
   "cell_type": "code",
   "execution_count": null,
   "metadata": {},
   "outputs": [],
   "source": [
    "Parallel(n_jobs=3)(delayed(do_the_job)(i) for i in src_files)"
   ]
  },
  {
   "cell_type": "code",
   "execution_count": null,
   "metadata": {},
   "outputs": [],
   "source": [
    "dest_files = glob.glob(os.path.join(dest_vinn_dir, 'sub-*' + 'SumRoi.nii.gz'))\n",
    "len(dest_files)"
   ]
  },
  {
   "cell_type": "code",
   "execution_count": null,
   "metadata": {},
   "outputs": [],
   "source": [
    "src_fs7_dir = '/home/ibrazug/Dokumente/KindersegV2/Ibra/derivatives/Freesurfer7' \n",
    "src_files = glob.glob(os.path.join(src_fs7_dir, 'sub-*', 'mri', 'aparc.DKTatlas+aseg.mgz'))\n",
    "len(src_files)"
   ]
  },
  {
   "cell_type": "code",
   "execution_count": 64,
   "metadata": {},
   "outputs": [],
   "source": [
    "fs7_sids = [f.split('/')[-3] for f in src_files]"
   ]
  },
  {
   "cell_type": "code",
   "execution_count": null,
   "metadata": {},
   "outputs": [],
   "source": [
    "def do_the_job(i):\n",
    "    sid = i.split('/')[-3]\n",
    "    dest_i = os.path.join(dest_fs7_dir, sid + '_SumRoi.nii.gz')\n",
    "    sums.SumNiiRois(n_jobs=-1).transform(i).to_filename(dest_i)\n",
    "    return dest_i\n",
    "\n",
    "Parallel(n_jobs=3)(delayed(do_the_job)(i) for i in src_files)"
   ]
  },
  {
   "cell_type": "markdown",
   "metadata": {},
   "source": [
    "## Sum Volume Tables ROI"
   ]
  },
  {
   "cell_type": "code",
   "execution_count": 62,
   "metadata": {},
   "outputs": [
    {
     "data": {
      "text/plain": [
       "True"
      ]
     },
     "execution_count": 62,
     "metadata": {},
     "output_type": "execute_result"
    }
   ],
   "source": [
    "vinn_table_file = os.path.join(os.path.abspath('..'), 'stats', 'VINN_aseg_all.csv')\n",
    "os.path.isfile(vinn_table_file)"
   ]
  },
  {
   "cell_type": "code",
   "execution_count": 63,
   "metadata": {},
   "outputs": [
    {
     "data": {
      "text/html": [
       "<div>\n",
       "<style scoped>\n",
       "    .dataframe tbody tr th:only-of-type {\n",
       "        vertical-align: middle;\n",
       "    }\n",
       "\n",
       "    .dataframe tbody tr th {\n",
       "        vertical-align: top;\n",
       "    }\n",
       "\n",
       "    .dataframe thead th {\n",
       "        text-align: right;\n",
       "    }\n",
       "</style>\n",
       "<table border=\"1\" class=\"dataframe\">\n",
       "  <thead>\n",
       "    <tr style=\"text-align: right;\">\n",
       "      <th></th>\n",
       "      <th>sids</th>\n",
       "      <th>CC_Posterior</th>\n",
       "      <th>CC_Mid_Posterior</th>\n",
       "      <th>CC_Central</th>\n",
       "      <th>CC_Mid_Anterior</th>\n",
       "      <th>CC_Anterior</th>\n",
       "      <th>Optic-Chiasm</th>\n",
       "      <th>MaskVol-to-eTIV</th>\n",
       "      <th>CortexVol</th>\n",
       "      <th>Left-vessel</th>\n",
       "      <th>...</th>\n",
       "      <th>ctx-rh-insula</th>\n",
       "      <th>MaskVol</th>\n",
       "      <th>BrainSegVol</th>\n",
       "      <th>BrainSegVolNotVent</th>\n",
       "      <th>SupraTentorialVol</th>\n",
       "      <th>SupraTentorialVolNotVent</th>\n",
       "      <th>SubCortGrayVol</th>\n",
       "      <th>rhCerebralWhiteMatterVol</th>\n",
       "      <th>lhCerebralWhiteMatterVol</th>\n",
       "      <th>CerebralWhiteMatterVol</th>\n",
       "    </tr>\n",
       "  </thead>\n",
       "  <tbody>\n",
       "    <tr>\n",
       "      <th>0</th>\n",
       "      <td>sub-k10010</td>\n",
       "      <td>614.735</td>\n",
       "      <td>448.887</td>\n",
       "      <td>620.422</td>\n",
       "      <td>673.900</td>\n",
       "      <td>788.075</td>\n",
       "      <td>0.0</td>\n",
       "      <td>0.871468</td>\n",
       "      <td>636899.788683</td>\n",
       "      <td>0.0</td>\n",
       "      <td>...</td>\n",
       "      <td>7481.323</td>\n",
       "      <td>1.541382e+06</td>\n",
       "      <td>1.311747e+06</td>\n",
       "      <td>1.297847e+06</td>\n",
       "      <td>1.161325e+06</td>\n",
       "      <td>1.147425e+06</td>\n",
       "      <td>63435.336435</td>\n",
       "      <td>240123.473002</td>\n",
       "      <td>237676.097424</td>\n",
       "      <td>477799.570426</td>\n",
       "    </tr>\n",
       "    <tr>\n",
       "      <th>1</th>\n",
       "      <td>sub-k10020</td>\n",
       "      <td>749.293</td>\n",
       "      <td>387.234</td>\n",
       "      <td>749.216</td>\n",
       "      <td>750.919</td>\n",
       "      <td>748.633</td>\n",
       "      <td>0.0</td>\n",
       "      <td>0.927251</td>\n",
       "      <td>636964.440817</td>\n",
       "      <td>0.0</td>\n",
       "      <td>...</td>\n",
       "      <td>6930.047</td>\n",
       "      <td>1.529384e+06</td>\n",
       "      <td>1.283269e+06</td>\n",
       "      <td>1.274758e+06</td>\n",
       "      <td>1.137151e+06</td>\n",
       "      <td>1.128641e+06</td>\n",
       "      <td>62921.136246</td>\n",
       "      <td>231571.436721</td>\n",
       "      <td>229017.173887</td>\n",
       "      <td>460588.610608</td>\n",
       "    </tr>\n",
       "    <tr>\n",
       "      <th>2</th>\n",
       "      <td>sub-k10030</td>\n",
       "      <td>762.863</td>\n",
       "      <td>533.378</td>\n",
       "      <td>787.087</td>\n",
       "      <td>305.719</td>\n",
       "      <td>896.795</td>\n",
       "      <td>0.0</td>\n",
       "      <td>0.796200</td>\n",
       "      <td>558339.222175</td>\n",
       "      <td>0.0</td>\n",
       "      <td>...</td>\n",
       "      <td>6912.120</td>\n",
       "      <td>1.346090e+06</td>\n",
       "      <td>1.108905e+06</td>\n",
       "      <td>1.087722e+06</td>\n",
       "      <td>9.711969e+05</td>\n",
       "      <td>9.500146e+05</td>\n",
       "      <td>59186.861614</td>\n",
       "      <td>182783.803096</td>\n",
       "      <td>183586.721099</td>\n",
       "      <td>366370.524195</td>\n",
       "    </tr>\n",
       "    <tr>\n",
       "      <th>3</th>\n",
       "      <td>sub-k10040</td>\n",
       "      <td>594.118</td>\n",
       "      <td>344.485</td>\n",
       "      <td>701.386</td>\n",
       "      <td>571.254</td>\n",
       "      <td>643.830</td>\n",
       "      <td>0.0</td>\n",
       "      <td>0.831116</td>\n",
       "      <td>612101.728590</td>\n",
       "      <td>0.0</td>\n",
       "      <td>...</td>\n",
       "      <td>6705.286</td>\n",
       "      <td>1.511410e+06</td>\n",
       "      <td>1.252820e+06</td>\n",
       "      <td>1.240887e+06</td>\n",
       "      <td>1.098511e+06</td>\n",
       "      <td>1.086578e+06</td>\n",
       "      <td>62080.453728</td>\n",
       "      <td>223783.434206</td>\n",
       "      <td>224017.712294</td>\n",
       "      <td>447801.146500</td>\n",
       "    </tr>\n",
       "    <tr>\n",
       "      <th>4</th>\n",
       "      <td>sub-k10050</td>\n",
       "      <td>716.453</td>\n",
       "      <td>398.011</td>\n",
       "      <td>595.492</td>\n",
       "      <td>641.704</td>\n",
       "      <td>621.888</td>\n",
       "      <td>0.0</td>\n",
       "      <td>0.940661</td>\n",
       "      <td>666240.346176</td>\n",
       "      <td>0.0</td>\n",
       "      <td>...</td>\n",
       "      <td>7275.158</td>\n",
       "      <td>1.504791e+06</td>\n",
       "      <td>1.272079e+06</td>\n",
       "      <td>1.261602e+06</td>\n",
       "      <td>1.141830e+06</td>\n",
       "      <td>1.131353e+06</td>\n",
       "      <td>63861.572993</td>\n",
       "      <td>210810.297971</td>\n",
       "      <td>213004.528898</td>\n",
       "      <td>423814.826869</td>\n",
       "    </tr>\n",
       "    <tr>\n",
       "      <th>...</th>\n",
       "      <td>...</td>\n",
       "      <td>...</td>\n",
       "      <td>...</td>\n",
       "      <td>...</td>\n",
       "      <td>...</td>\n",
       "      <td>...</td>\n",
       "      <td>...</td>\n",
       "      <td>...</td>\n",
       "      <td>...</td>\n",
       "      <td>...</td>\n",
       "      <td>...</td>\n",
       "      <td>...</td>\n",
       "      <td>...</td>\n",
       "      <td>...</td>\n",
       "      <td>...</td>\n",
       "      <td>...</td>\n",
       "      <td>...</td>\n",
       "      <td>...</td>\n",
       "      <td>...</td>\n",
       "      <td>...</td>\n",
       "      <td>...</td>\n",
       "    </tr>\n",
       "    <tr>\n",
       "      <th>444</th>\n",
       "      <td>sub-NDARZC058BA5</td>\n",
       "      <td>612.640</td>\n",
       "      <td>545.953</td>\n",
       "      <td>762.774</td>\n",
       "      <td>331.835</td>\n",
       "      <td>1020.705</td>\n",
       "      <td>0.0</td>\n",
       "      <td>0.977645</td>\n",
       "      <td>653469.397234</td>\n",
       "      <td>0.0</td>\n",
       "      <td>...</td>\n",
       "      <td>6666.194</td>\n",
       "      <td>1.599900e+06</td>\n",
       "      <td>1.326405e+06</td>\n",
       "      <td>1.308926e+06</td>\n",
       "      <td>1.170421e+06</td>\n",
       "      <td>1.152941e+06</td>\n",
       "      <td>67248.619539</td>\n",
       "      <td>238975.590359</td>\n",
       "      <td>237619.272881</td>\n",
       "      <td>476594.863240</td>\n",
       "    </tr>\n",
       "    <tr>\n",
       "      <th>445</th>\n",
       "      <td>sub-NDARZG263HRK</td>\n",
       "      <td>905.086</td>\n",
       "      <td>492.475</td>\n",
       "      <td>638.795</td>\n",
       "      <td>577.579</td>\n",
       "      <td>801.881</td>\n",
       "      <td>0.0</td>\n",
       "      <td>0.686963</td>\n",
       "      <td>584999.004560</td>\n",
       "      <td>0.0</td>\n",
       "      <td>...</td>\n",
       "      <td>6781.069</td>\n",
       "      <td>1.377667e+06</td>\n",
       "      <td>1.116291e+06</td>\n",
       "      <td>1.102942e+06</td>\n",
       "      <td>9.875031e+05</td>\n",
       "      <td>9.741540e+05</td>\n",
       "      <td>53882.392215</td>\n",
       "      <td>186355.350398</td>\n",
       "      <td>186148.733226</td>\n",
       "      <td>372504.083624</td>\n",
       "    </tr>\n",
       "    <tr>\n",
       "      <th>446</th>\n",
       "      <td>sub-NDARZG690NHH</td>\n",
       "      <td>686.374</td>\n",
       "      <td>431.062</td>\n",
       "      <td>551.683</td>\n",
       "      <td>550.916</td>\n",
       "      <td>682.768</td>\n",
       "      <td>0.0</td>\n",
       "      <td>0.947105</td>\n",
       "      <td>596502.296068</td>\n",
       "      <td>0.0</td>\n",
       "      <td>...</td>\n",
       "      <td>6840.365</td>\n",
       "      <td>1.491578e+06</td>\n",
       "      <td>1.261294e+06</td>\n",
       "      <td>1.246110e+06</td>\n",
       "      <td>1.115479e+06</td>\n",
       "      <td>1.100294e+06</td>\n",
       "      <td>64882.901147</td>\n",
       "      <td>234950.192108</td>\n",
       "      <td>233709.264658</td>\n",
       "      <td>468659.456766</td>\n",
       "    </tr>\n",
       "    <tr>\n",
       "      <th>447</th>\n",
       "      <td>sub-NDARZM903TNL</td>\n",
       "      <td>721.050</td>\n",
       "      <td>380.368</td>\n",
       "      <td>718.823</td>\n",
       "      <td>889.109</td>\n",
       "      <td>810.168</td>\n",
       "      <td>0.0</td>\n",
       "      <td>0.999615</td>\n",
       "      <td>564800.447261</td>\n",
       "      <td>0.0</td>\n",
       "      <td>...</td>\n",
       "      <td>6002.197</td>\n",
       "      <td>1.388659e+06</td>\n",
       "      <td>1.154995e+06</td>\n",
       "      <td>1.143610e+06</td>\n",
       "      <td>1.011352e+06</td>\n",
       "      <td>9.999675e+05</td>\n",
       "      <td>58969.293718</td>\n",
       "      <td>207741.264913</td>\n",
       "      <td>209680.336302</td>\n",
       "      <td>417421.601215</td>\n",
       "    </tr>\n",
       "    <tr>\n",
       "      <th>448</th>\n",
       "      <td>sub-NDARZR529EJ1</td>\n",
       "      <td>576.007</td>\n",
       "      <td>347.972</td>\n",
       "      <td>726.789</td>\n",
       "      <td>659.200</td>\n",
       "      <td>661.268</td>\n",
       "      <td>0.0</td>\n",
       "      <td>0.946542</td>\n",
       "      <td>638177.775138</td>\n",
       "      <td>0.0</td>\n",
       "      <td>...</td>\n",
       "      <td>7481.651</td>\n",
       "      <td>1.601661e+06</td>\n",
       "      <td>1.286597e+06</td>\n",
       "      <td>1.269483e+06</td>\n",
       "      <td>1.120649e+06</td>\n",
       "      <td>1.103536e+06</td>\n",
       "      <td>65217.786074</td>\n",
       "      <td>223105.659007</td>\n",
       "      <td>225681.785566</td>\n",
       "      <td>448787.444573</td>\n",
       "    </tr>\n",
       "  </tbody>\n",
       "</table>\n",
       "<p>449 rows × 129 columns</p>\n",
       "</div>"
      ],
      "text/plain": [
       "                 sids  CC_Posterior  CC_Mid_Posterior  CC_Central  \\\n",
       "0          sub-k10010       614.735           448.887     620.422   \n",
       "1          sub-k10020       749.293           387.234     749.216   \n",
       "2          sub-k10030       762.863           533.378     787.087   \n",
       "3          sub-k10040       594.118           344.485     701.386   \n",
       "4          sub-k10050       716.453           398.011     595.492   \n",
       "..                ...           ...               ...         ...   \n",
       "444  sub-NDARZC058BA5       612.640           545.953     762.774   \n",
       "445  sub-NDARZG263HRK       905.086           492.475     638.795   \n",
       "446  sub-NDARZG690NHH       686.374           431.062     551.683   \n",
       "447  sub-NDARZM903TNL       721.050           380.368     718.823   \n",
       "448  sub-NDARZR529EJ1       576.007           347.972     726.789   \n",
       "\n",
       "     CC_Mid_Anterior  CC_Anterior  Optic-Chiasm  MaskVol-to-eTIV  \\\n",
       "0            673.900      788.075           0.0         0.871468   \n",
       "1            750.919      748.633           0.0         0.927251   \n",
       "2            305.719      896.795           0.0         0.796200   \n",
       "3            571.254      643.830           0.0         0.831116   \n",
       "4            641.704      621.888           0.0         0.940661   \n",
       "..               ...          ...           ...              ...   \n",
       "444          331.835     1020.705           0.0         0.977645   \n",
       "445          577.579      801.881           0.0         0.686963   \n",
       "446          550.916      682.768           0.0         0.947105   \n",
       "447          889.109      810.168           0.0         0.999615   \n",
       "448          659.200      661.268           0.0         0.946542   \n",
       "\n",
       "         CortexVol  Left-vessel  ...  ctx-rh-insula       MaskVol  \\\n",
       "0    636899.788683          0.0  ...       7481.323  1.541382e+06   \n",
       "1    636964.440817          0.0  ...       6930.047  1.529384e+06   \n",
       "2    558339.222175          0.0  ...       6912.120  1.346090e+06   \n",
       "3    612101.728590          0.0  ...       6705.286  1.511410e+06   \n",
       "4    666240.346176          0.0  ...       7275.158  1.504791e+06   \n",
       "..             ...          ...  ...            ...           ...   \n",
       "444  653469.397234          0.0  ...       6666.194  1.599900e+06   \n",
       "445  584999.004560          0.0  ...       6781.069  1.377667e+06   \n",
       "446  596502.296068          0.0  ...       6840.365  1.491578e+06   \n",
       "447  564800.447261          0.0  ...       6002.197  1.388659e+06   \n",
       "448  638177.775138          0.0  ...       7481.651  1.601661e+06   \n",
       "\n",
       "      BrainSegVol  BrainSegVolNotVent  SupraTentorialVol  \\\n",
       "0    1.311747e+06        1.297847e+06       1.161325e+06   \n",
       "1    1.283269e+06        1.274758e+06       1.137151e+06   \n",
       "2    1.108905e+06        1.087722e+06       9.711969e+05   \n",
       "3    1.252820e+06        1.240887e+06       1.098511e+06   \n",
       "4    1.272079e+06        1.261602e+06       1.141830e+06   \n",
       "..            ...                 ...                ...   \n",
       "444  1.326405e+06        1.308926e+06       1.170421e+06   \n",
       "445  1.116291e+06        1.102942e+06       9.875031e+05   \n",
       "446  1.261294e+06        1.246110e+06       1.115479e+06   \n",
       "447  1.154995e+06        1.143610e+06       1.011352e+06   \n",
       "448  1.286597e+06        1.269483e+06       1.120649e+06   \n",
       "\n",
       "     SupraTentorialVolNotVent  SubCortGrayVol  rhCerebralWhiteMatterVol  \\\n",
       "0                1.147425e+06    63435.336435             240123.473002   \n",
       "1                1.128641e+06    62921.136246             231571.436721   \n",
       "2                9.500146e+05    59186.861614             182783.803096   \n",
       "3                1.086578e+06    62080.453728             223783.434206   \n",
       "4                1.131353e+06    63861.572993             210810.297971   \n",
       "..                        ...             ...                       ...   \n",
       "444              1.152941e+06    67248.619539             238975.590359   \n",
       "445              9.741540e+05    53882.392215             186355.350398   \n",
       "446              1.100294e+06    64882.901147             234950.192108   \n",
       "447              9.999675e+05    58969.293718             207741.264913   \n",
       "448              1.103536e+06    65217.786074             223105.659007   \n",
       "\n",
       "     lhCerebralWhiteMatterVol  CerebralWhiteMatterVol  \n",
       "0               237676.097424           477799.570426  \n",
       "1               229017.173887           460588.610608  \n",
       "2               183586.721099           366370.524195  \n",
       "3               224017.712294           447801.146500  \n",
       "4               213004.528898           423814.826869  \n",
       "..                        ...                     ...  \n",
       "444             237619.272881           476594.863240  \n",
       "445             186148.733226           372504.083624  \n",
       "446             233709.264658           468659.456766  \n",
       "447             209680.336302           417421.601215  \n",
       "448             225681.785566           448787.444573  \n",
       "\n",
       "[449 rows x 129 columns]"
      ]
     },
     "execution_count": 63,
     "metadata": {},
     "output_type": "execute_result"
    }
   ],
   "source": [
    "pd.read_csv(vinn_table_file)"
   ]
  },
  {
   "cell_type": "code",
   "execution_count": 64,
   "metadata": {},
   "outputs": [
    {
     "data": {
      "text/plain": [
       "<kinderseg.sums.SumVolTable at 0x7109f59eeb90>"
      ]
     },
     "execution_count": 64,
     "metadata": {},
     "output_type": "execute_result"
    }
   ],
   "source": [
    "s = sums.SumVolTable(n_jobs=-1)\n",
    "s.transform(pd.read_csv(vinn_table_file))"
   ]
  },
  {
   "cell_type": "code",
   "execution_count": 65,
   "metadata": {},
   "outputs": [
    {
     "data": {
      "text/plain": [
       "'/home/orco/data/KinderSegV2/review_GitHub/stats/VINN_summed.csv'"
      ]
     },
     "execution_count": 65,
     "metadata": {},
     "output_type": "execute_result"
    }
   ],
   "source": [
    "s.to_filename(os.path.join(os.path.abspath('..'), 'stats', 'VINN_summed.csv'))"
   ]
  },
  {
   "cell_type": "code",
   "execution_count": 79,
   "metadata": {},
   "outputs": [
    {
     "data": {
      "text/plain": [
       "True"
      ]
     },
     "execution_count": 79,
     "metadata": {},
     "output_type": "execute_result"
    }
   ],
   "source": [
    "fs_table_file = os.path.join(os.path.abspath('..'), 'stats', 'FS7_aseg+aparc.csv')\n",
    "os.path.isfile(fs_table_file)"
   ]
  },
  {
   "cell_type": "code",
   "execution_count": 80,
   "metadata": {},
   "outputs": [],
   "source": [
    "fs7_table = pd.read_csv(fs_table_file)"
   ]
  },
  {
   "cell_type": "code",
   "execution_count": 83,
   "metadata": {},
   "outputs": [
    {
     "data": {
      "text/plain": [
       "<kinderseg.sums.SumVolTable at 0x7109c1d53340>"
      ]
     },
     "execution_count": 83,
     "metadata": {},
     "output_type": "execute_result"
    }
   ],
   "source": [
    "s = sums.SumVolTable(src='FS7', n_jobs=-1)\n",
    "s.transform(pd.read_csv(fs_table_file))"
   ]
  },
  {
   "cell_type": "code",
   "execution_count": 84,
   "metadata": {},
   "outputs": [
    {
     "data": {
      "text/plain": [
       "'/home/orco/data/KinderSegV2/review_GitHub/stats/FS7_summed.csv'"
      ]
     },
     "execution_count": 84,
     "metadata": {},
     "output_type": "execute_result"
    }
   ],
   "source": [
    "s.to_filename(os.path.join(os.path.abspath('..'), 'stats', 'FS7_summed.csv'))"
   ]
  },
  {
   "cell_type": "code",
   "execution_count": null,
   "metadata": {},
   "outputs": [],
   "source": []
  }
 ],
 "metadata": {
  "kernelspec": {
   "display_name": "Python 3 (ipykernel)",
   "language": "python",
   "name": "python3"
  },
  "language_info": {
   "codemirror_mode": {
    "name": "ipython",
    "version": 3
   },
   "file_extension": ".py",
   "mimetype": "text/x-python",
   "name": "python",
   "nbconvert_exporter": "python",
   "pygments_lexer": "ipython3",
   "version": "3.10.15"
  }
 },
 "nbformat": 4,
 "nbformat_minor": 2
}
